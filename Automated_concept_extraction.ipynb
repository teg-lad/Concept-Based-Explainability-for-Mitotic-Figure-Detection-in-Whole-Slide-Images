{
 "cells": [
  {
   "cell_type": "markdown",
   "id": "cfbfd106",
   "metadata": {},
   "source": [
    "### Automated Concept Extraction\n",
    "\n",
    "There are several steps to the automated concept extraction method that are outlined in their paper [here]().\n",
    "\n",
    "Firstly, we need to create patches from images that represent the object we want to derive concepts for. This involves using skimage segmentation and extracting the patches and superpixels from this. These will be used to find visual features that can be used as concepts.\n",
    "\n",
    "Once we have the patches that we need, we can make use of a clustering technique on the representations extracted from the bottleneck layers of our model after passing a patch through. This will allow us to find visually similar images that will hopefully group patches that represent the same visual concept.\n",
    "\n",
    "These groups of patches can then be used to create a concept activation vector. This involves getting the activations of these ptaches relating to a concept and then random patches that as a group represent no descernable concept. A linear classifier is trained on these examples and the vector orthognal to the hyperplane that separates the concept examples from the random is taken to be the concept activation vector.\n",
    "\n",
    "The influence of this concept can be determined by taking the partial derivative of the class logit you want to examine with respect to a bottleneck layer. Multiplying the CAV by this partial derivative will allow us to determine the impact this concept had on the prediction.\n",
    "\n",
    "This concludes the rough overview of the method that will be employed. The aim is to create realistic, reasonable concepts from the mitotic figures without the need of manually gathering images of specific concepts.\n",
    "\n",
    "### Importing libraries"
   ]
  },
  {
   "cell_type": "code",
   "execution_count": 1,
   "id": "604bb091",
   "metadata": {},
   "outputs": [],
   "source": [
    "import sys\n",
    "import random\n",
    "from pathlib import Path\n",
    "import numpy as np\n",
    "import sklearn.metrics as metrics\n",
    "# from tcav import utils\n",
    "import shutil\n",
    "import torch\n",
    "import torchvision.transforms as T\n",
    "from PIL import Image\n",
    "\n",
    "import Utils.ACE.ace_helpers as ace_helpers\n",
    "from Utils.ACE.ace import ConceptDiscovery"
   ]
  },
  {
   "cell_type": "markdown",
   "id": "2fbc5132",
   "metadata": {},
   "source": [
    "### Testing with COCO\n",
    "\n",
    "We will begin by taking some images from the COCO dataset, specifically those inclusing a tennis racket. We will use this example to test our method and ensure we are processing the images correctly and the results seem reasonable. This seems the best course of action as I have a better understanding of the visual features that concern a tennis racket and no formal understanding of the visual features of a mitotic figure."
   ]
  },
  {
   "cell_type": "code",
   "execution_count": null,
   "id": "88368f78",
   "metadata": {},
   "outputs": [],
   "source": [
    "# Create an output directory for our data\n",
    "output = Path.cwd() / \"ACE_COCO_output/\"\n",
    "\n",
    "# Create the relevant sub-directories.\n",
    "discovered_concepts_dir = output / 'concepts/'\n",
    "results_dir = output / 'results/'\n",
    "cavs_dir = output / 'cavs/'\n",
    "activations_dir = output / 'acts/'\n",
    "results_summaries_dir = output / 'results_summaries/'\n",
    "\n",
    "# # If the directory exists we delete it to generate new output.\n",
    "# if output.exists():\n",
    "#     shutil.rmtree(output)\n",
    "\n",
    "# # Make all of the directories\n",
    "# output.mkdir()\n",
    "# discovered_concepts_dir.mkdir()\n",
    "# results_dir.mkdir()\n",
    "# cavs_dir.mkdir()\n",
    "# activations_dir.mkdir()\n",
    "# results_summaries_dir.mkdir()"
   ]
  },
  {
   "cell_type": "code",
   "execution_count": null,
   "id": "1144ab31",
   "metadata": {},
   "outputs": [],
   "source": [
    "# Specify the target class and the source directory.\n",
    "target_class = \"tennis racket\"\n",
    "source_dir = \"D:\\DS\\DS4\\Project\\COCO\""
   ]
  },
  {
   "cell_type": "code",
   "execution_count": null,
   "id": "756225f9",
   "metadata": {},
   "outputs": [],
   "source": [
    "%%capture\n",
    "# Random concept for statistical testing.\n",
    "random_concept = 'random_discovery'\n",
    "\n",
    "# Define the bottleneck layers.\n",
    "\n",
    "# Create the model variable and set it to evaluate.\n",
    "mymodel = ace_helpers.MyModel(\"tmp\", ['backbone.body.layer1.2.conv1', 'backbone.body.layer2.3.conv1', 'backbone.body.layer3.5.conv1', 'backbone.body.layer4.2.conv1'])\n",
    "mymodel.model.eval()"
   ]
  },
  {
   "cell_type": "code",
   "execution_count": null,
   "id": "957ec9c7",
   "metadata": {},
   "outputs": [],
   "source": [
    "mymodel.model.model"
   ]
  },
  {
   "cell_type": "markdown",
   "id": "0a71e58d",
   "metadata": {},
   "source": [
    "### Selecting the bottleneck layers\n",
    "\n",
    "In order to extract the activations and gradients from a layer, we need to determine which layer(s) are bottleneck layers. A bottleneck layer typically reduces the number of channels in the data between the input and output while keeping the size of the image equal by using a kernel of (1,1) and a stride of (1,1). This means that the model compresses the representation of the input in this layer and keeps the most important features for performing the task. This makes it the ideal layer for using the activations from to cluster the patches for ACE and to train the linear classifier for TCAV.\n",
    "\n",
    "Looking at the model structure from above we can see that there are several such layers in the backbone of our model. It may be worth just taking a selection of these. I have decided to take the bottleneck from the last bottleneck unit in each layer. This means I will be using the following 4 layers.\n",
    "\n",
    "```\n",
    "bottleneck_layers = ['backbone.body.layer1.2.conv1', 'backbone.body.layer2.3.conv1', 'backbone.body.layer3.5.conv1', 'backbone.body.layer4.2.conv1']\n",
    "```\n",
    "\n",
    "These will be the layers I extract both the activations from and the gradients when looking at the influence of each concept."
   ]
  },
  {
   "cell_type": "code",
   "execution_count": null,
   "id": "4384fdec",
   "metadata": {},
   "outputs": [],
   "source": [
    "# Creating the ConceptDiscovery class instance.\n",
    "cd = ConceptDiscovery(\n",
    "    mymodel,\n",
    "    target_class,\n",
    "    random_concept,\n",
    "    ['backbone.body.layer1.2.conv1', 'backbone.body.layer2.3.conv1', 'backbone.body.layer3.5.conv1', 'backbone.body.layer4.2.conv1'],\n",
    "    source_dir,\n",
    "    activations_dir,\n",
    "    cavs_dir,\n",
    "    num_random_exp=2,\n",
    "    channel_mean=True,\n",
    "    max_imgs=100,\n",
    "    min_imgs=50,\n",
    "    num_discovery_imgs=100,\n",
    "    num_workers=0)"
   ]
  },
  {
   "cell_type": "markdown",
   "id": "de785c67",
   "metadata": {},
   "source": [
    "We have initialized the ConceptDiscovery class, which contains the methods for creating superpixels, clustering to find concepts, creating concept activation vectors and testing these. We will make use of this class for most of the notebook."
   ]
  },
  {
   "cell_type": "code",
   "execution_count": null,
   "id": "b20b4ea1",
   "metadata": {},
   "outputs": [],
   "source": [
    "# Creating the dataset of image patches.\n",
    "cd.create_patches(discovered_concepts_dir, param_dict={'n_segments': [15]})\n",
    "\n",
    "# Saving the concept discovery target class images.\n",
    "image_dir = discovered_concepts_dir / 'images'\n",
    "image_dir.mkdir()\n",
    "ace_helpers.save_images(image_dir.absolute(),\n",
    "                        (cd.discovery_images * 256).astype(np.uint8))"
   ]
  },
  {
   "cell_type": "markdown",
   "id": "38d480cf",
   "metadata": {},
   "source": [
    "We can now check the output directory to find the raw discovery images, the superpixels and the patches. These can now be used to find potential visual concepts."
   ]
  },
  {
   "cell_type": "code",
   "execution_count": null,
   "id": "70e5c2cd",
   "metadata": {
    "scrolled": true
   },
   "outputs": [],
   "source": [
    "# Discovering Concepts\n",
    "cd.discover_concepts(discovered_concepts_dir, method='KM', param_dicts={'n_clusters': 25})"
   ]
  },
  {
   "cell_type": "markdown",
   "id": "970f431c",
   "metadata": {},
   "source": [
    "After running the above code we have collected the activations from passing the superpixels through our model. After optionally getting the average across filters to reduce size and then flattening, we are ready to cluster. This is also carried out above, leaving us with a folder of images for each of these potential concepts. These can be seen in our output folder."
   ]
  },
  {
   "cell_type": "code",
   "execution_count": null,
   "id": "ad517a37",
   "metadata": {},
   "outputs": [],
   "source": [
    "# Save discovered concept images (resized and original sized)\n",
    "ace_helpers.save_concepts(cd, discovered_concepts_dir)"
   ]
  },
  {
   "cell_type": "markdown",
   "id": "e6cfb1fb",
   "metadata": {},
   "source": []
  },
  {
   "cell_type": "code",
   "execution_count": null,
   "id": "b1f74e7c",
   "metadata": {},
   "outputs": [],
   "source": [
    "# TODO add to helper function generate_random\n",
    "superpixels = discovered_concepts_dir / \"superpixels\"\n",
    "list_of_files = list(superpixels.iterdir())\n",
    "\n",
    "# Random selection of the the superpixels for random concept?\n",
    "random.seed(42)\n",
    "cd.random_imgs = np.array(random.sample(list_of_files, 50))"
   ]
  },
  {
   "cell_type": "code",
   "execution_count": null,
   "id": "dfd7a2af",
   "metadata": {},
   "outputs": [],
   "source": [
    "# Save the random imgs for review save_random\n",
    "for img in cd.random_imgs:\n",
    "    destination = img.parent.parent / \"Random\"\n",
    "    destination.mkdir(exist_ok=True)\n",
    "    \n",
    "    shutil.copy(img, destination / img.name)"
   ]
  },
  {
   "cell_type": "code",
   "execution_count": null,
   "id": "4fe6ee2e",
   "metadata": {},
   "outputs": [],
   "source": [
    "cav_accuracies = cd.cavs()"
   ]
  },
  {
   "cell_type": "code",
   "execution_count": null,
   "id": "f09d1291",
   "metadata": {},
   "outputs": [],
   "source": [
    "cav_accuracies"
   ]
  },
  {
   "cell_type": "code",
   "execution_count": null,
   "id": "0c117c29",
   "metadata": {},
   "outputs": [],
   "source": [
    "files = Path(\"D:/DS/DS4/Project/2023-ca4021-tegarta2/ACE_COCO_output/concepts/superpixels\") #/ target_class\n",
    "files_for_tcav = np.array(list(files.iterdir())[:5])"
   ]
  },
  {
   "cell_type": "code",
   "execution_count": null,
   "id": "95ff6206",
   "metadata": {},
   "outputs": [],
   "source": [
    "files_for_tcav[1:5]"
   ]
  },
  {
   "cell_type": "code",
   "execution_count": null,
   "id": "f6e7bd1e",
   "metadata": {},
   "outputs": [],
   "source": [
    "grads = cd._return_gradients(files_for_tcav)"
   ]
  },
  {
   "cell_type": "code",
   "execution_count": null,
   "id": "151a945a",
   "metadata": {},
   "outputs": [],
   "source": [
    "grads[\"000_000.png\"][\"backbone.body.layer1.2.conv1\"][0].shape"
   ]
  },
  {
   "cell_type": "code",
   "execution_count": null,
   "id": "c50e4d2a",
   "metadata": {},
   "outputs": [],
   "source": [
    "activations = cd._get_activations(files_for_tcav)"
   ]
  },
  {
   "cell_type": "code",
   "execution_count": null,
   "id": "a022dcfb",
   "metadata": {},
   "outputs": [],
   "source": [
    "activations[\"backbone.body.layer1.2.conv1\"].shape"
   ]
  },
  {
   "cell_type": "code",
   "execution_count": null,
   "id": "955fec5a",
   "metadata": {},
   "outputs": [],
   "source": [
    "vector = cd.load_cav_direction(\"tennis racket_concept1\", \"Random\", \"backbone.body.layer1.2.conv1\")"
   ]
  },
  {
   "cell_type": "code",
   "execution_count": null,
   "id": "d232df47",
   "metadata": {},
   "outputs": [],
   "source": [
    "vector.shape"
   ]
  },
  {
   "cell_type": "code",
   "execution_count": null,
   "id": "04b7269e",
   "metadata": {},
   "outputs": [],
   "source": [
    "# Calculating CAVs and TCAV scores\n",
    "cav_accuracies = cd.cavs(min_acc=0.0)\n",
    "scores = cd.tcavs(test=False)\n",
    "ace_helpers.save_ace_report(cd, cav_accuracies, scores,\n",
    "                            results_summaries_dir + 'ace_results.txt')"
   ]
  },
  {
   "cell_type": "code",
   "execution_count": null,
   "id": "85c7a05d",
   "metadata": {},
   "outputs": [],
   "source": [
    "# Plot examples of discovered concepts\n",
    "for bn in cd.bottlenecks:\n",
    "    ace_helpers.plot_concepts(cd, bn, 10, address=results_dir)\n",
    "# Delete concepts that don't pass statistical testing\n",
    "cd.test_and_remove_concepts(scores)"
   ]
  },
  {
   "cell_type": "markdown",
   "id": "44d2e648",
   "metadata": {},
   "source": [
    "Mitotic figures"
   ]
  },
  {
   "cell_type": "code",
   "execution_count": 2,
   "id": "e2b4a666",
   "metadata": {},
   "outputs": [],
   "source": [
    "# Create an output directory for our data\n",
    "output = Path.cwd() / \"ACE_mitotic_output/\"\n",
    "\n",
    "# Create the relevant sub-directories.\n",
    "discovered_concepts_dir = output / 'concepts/'\n",
    "results_dir = output / 'results/'\n",
    "cavs_dir = output / 'cavs/'\n",
    "activations_dir = output / 'acts/'\n",
    "results_summaries_dir = output / 'results_summaries/'\n",
    "\n",
    "# If the directory exists we delete it to generate new output.\n",
    "if output.exists():\n",
    "    shutil.rmtree(output)\n",
    "\n",
    "# Make all of the directories\n",
    "output.mkdir()\n",
    "discovered_concepts_dir.mkdir()\n",
    "results_dir.mkdir()\n",
    "cavs_dir.mkdir()\n",
    "activations_dir.mkdir()\n",
    "results_summaries_dir.mkdir()"
   ]
  },
  {
   "cell_type": "code",
   "execution_count": 3,
   "id": "25c52fd1",
   "metadata": {},
   "outputs": [],
   "source": [
    "# Specify the target class and the source directory.\n",
    "target_class = \"mitotic figure\"\n",
    "source_dir = \"D:\\DS\\DS4\\Project\\MIDOG\""
   ]
  },
  {
   "cell_type": "code",
   "execution_count": 4,
   "id": "540b66fb",
   "metadata": {},
   "outputs": [],
   "source": [
    "%%capture\n",
    "# Random concept for statistical testing.\n",
    "random_concept = 'random_discovery'\n",
    "\n",
    "# Define the bottleneck layers.\n",
    "\n",
    "# Create the model variable and set it to evaluate.\n",
    "mymodel = ace_helpers.MyModel(\"mitotic\", ['backbone.body.layer1.2.conv1', 'backbone.body.layer2.3.conv1', 'backbone.body.layer3.5.conv1', 'backbone.body.layer4.2.conv1'])\n",
    "mymodel.model.eval()"
   ]
  },
  {
   "cell_type": "code",
   "execution_count": 5,
   "id": "95d23d31",
   "metadata": {},
   "outputs": [],
   "source": [
    "# Creating the ConceptDiscovery class instance.\n",
    "cd = ConceptDiscovery(\n",
    "    mymodel,\n",
    "    target_class,\n",
    "    random_concept,\n",
    "    ['backbone.body.layer1.2.conv1', 'backbone.body.layer2.3.conv1', 'backbone.body.layer3.5.conv1', 'backbone.body.layer4.2.conv1'],\n",
    "    source_dir,\n",
    "    activations_dir,\n",
    "    cavs_dir,\n",
    "    num_random_exp=2,\n",
    "    channel_mean=True,\n",
    "    max_imgs=100,\n",
    "    min_imgs=50,\n",
    "    num_discovery_imgs=100,\n",
    "    num_workers=0)"
   ]
  },
  {
   "cell_type": "code",
   "execution_count": 6,
   "id": "c179008b",
   "metadata": {},
   "outputs": [
    {
     "name": "stderr",
     "output_type": "stream",
     "text": [
      "100%|████████████████████████████████████████████████████████████████████████████████| 100/100 [00:49<00:00,  2.02it/s]\n"
     ]
    }
   ],
   "source": [
    "# Creating the dataset of image patches.\n",
    "cd.create_patches(discovered_concepts_dir, param_dict={'n_segments': [15]})\n",
    "\n",
    "# Saving the concept discovery target class images.\n",
    "image_dir = discovered_concepts_dir / 'images'\n",
    "image_dir.mkdir()\n",
    "ace_helpers.save_images(image_dir.absolute(),\n",
    "                        (cd.discovery_images * 256).astype(np.uint8))"
   ]
  },
  {
   "cell_type": "code",
   "execution_count": null,
   "id": "48dc21fa",
   "metadata": {},
   "outputs": [
    {
     "name": "stderr",
     "output_type": "stream",
     "text": [
      "Calculating activations for superpixels: 100%|███████████████████████████████████████| 354/354 [07:59<00:00,  1.35s/it]\n"
     ]
    }
   ],
   "source": [
    "# Discovering Concepts\n",
    "cd.discover_concepts(discovered_concepts_dir, method='KM', param_dicts={'n_clusters': 25})"
   ]
  },
  {
   "cell_type": "code",
   "execution_count": null,
   "id": "8d678879",
   "metadata": {},
   "outputs": [],
   "source": [
    "# Save discovered concept images (resized and original sized)\n",
    "ace_helpers.save_concepts(cd, discovered_concepts_dir)"
   ]
  },
  {
   "cell_type": "code",
   "execution_count": null,
   "id": "6718ffb2",
   "metadata": {},
   "outputs": [],
   "source": [
    "# TODO add to helper function generate_random\n",
    "superpixels = discovered_concepts_dir / \"superpixels\"\n",
    "list_of_files = list(superpixels.iterdir())\n",
    "\n",
    "# Random selection of the the superpixels for random concept?\n",
    "random.seed(42)\n",
    "cd.random_imgs = np.array(random.sample(list_of_files, 50))"
   ]
  },
  {
   "cell_type": "code",
   "execution_count": null,
   "id": "1834065a",
   "metadata": {},
   "outputs": [],
   "source": [
    "# Save the random imgs for review save_random\n",
    "for img in cd.random_imgs:\n",
    "    destination = img.parent.parent / \"Random\"\n",
    "    destination.mkdir(exist_ok=True)\n",
    "    \n",
    "    shutil.copy(img, destination / img.name)"
   ]
  },
  {
   "cell_type": "code",
   "execution_count": null,
   "id": "43ff40a1",
   "metadata": {},
   "outputs": [],
   "source": [
    "cav_accuracies = cd.cavs()"
   ]
  },
  {
   "cell_type": "code",
   "execution_count": null,
   "id": "aa139324",
   "metadata": {},
   "outputs": [],
   "source": []
  }
 ],
 "metadata": {
  "kernelspec": {
   "display_name": "Python 3 (ipykernel)",
   "language": "python",
   "name": "python3"
  },
  "language_info": {
   "codemirror_mode": {
    "name": "ipython",
    "version": 3
   },
   "file_extension": ".py",
   "mimetype": "text/x-python",
   "name": "python",
   "nbconvert_exporter": "python",
   "pygments_lexer": "ipython3",
   "version": "3.8.16"
  }
 },
 "nbformat": 4,
 "nbformat_minor": 5
}
